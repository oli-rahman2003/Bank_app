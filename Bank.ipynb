{
 "cells": [
  {
   "cell_type": "code",
   "execution_count": 662,
   "id": "031b0067",
   "metadata": {},
   "outputs": [],
   "source": [
    "from Account import Account\n",
    "from Customer import Customer\n",
    "\n",
    "class Bank:\n",
    "    def __init__(self):\n",
    "        self.current_customer = None\n",
    "        self.list_of_customers = []\n",
    "    \n",
    "    def add_customer(self, customer):\n",
    "        if type(customer) == Customer: \n",
    "            self.list_of_customers.append(customer)\n",
    "            return True  \n",
    "        \n",
    "    def get_customers(self):\n",
    "        for customer in self.list_of_customers:\n",
    "            customer.print_customer_info()\n",
    "    \n",
    "    def get_customer(self, username):\n",
    "        for customer in self.list_of_customers:\n",
    "            if customer.get_username() == username:\n",
    "                customer.print_customer_info()\n",
    "    \n",
    "    def change_customer_password(self, username, new_password):\n",
    "        for customer in self.list_of_customers:\n",
    "            if customer.get_username() == username:\n",
    "                customer.password = new_password\n",
    "                return True\n",
    "            return False\n",
    "            \n",
    "    def remove_customer(self, username):\n",
    "        for customer in self.list_of_customers:\n",
    "            if customer.get_username() == username:\n",
    "                self.list_of_customers.remove(customer)\n",
    "                return True\n",
    "                \n",
    "    def login(self, username, password):\n",
    "        for customer in self.list_of_customers:\n",
    "            if customer.get_username() == username and customer.get_password() == password:\n",
    "                self.current_customer = customer\n",
    "                return True\n",
    "            else:\n",
    "                return print(\"Incorrect username or password\")\n",
    " \n",
    "    def logout(self):\n",
    "        self.current_customer = None\n",
    "        return True\n",
    "        \n",
    "    def get_current_customer(self):\n",
    "        if self.current_customer == None:\n",
    "            return (\"No customer logged in\")\n",
    "        else:\n",
    "            self.current_customer.print_customer_info()\n",
    "        \n",
    "    def get_accounts(self):\n",
    "        if self.current_customer == None:\n",
    "            return (\"No customer logged in\")\n",
    "        else:\n",
    "            self.current_customer.print_list_of_accounts()\n",
    "            \n",
    "    def add_account(self, account):      \n",
    "        if self.current_customer == None:\n",
    "            return (\"No customer logged in\")\n",
    "        else:\n",
    "            self.current_customer.add_account(account)\n",
    "            return True\n",
    "\n",
    "    def remove_account(self, account_number):\n",
    "        if self.current_customer == None:\n",
    "            return (\"No customer logged in\")\n",
    "        else:\n",
    "            self.current_customer.remove_account(account_number)\n",
    "            return True\n",
    "        \n",
    "    def get_account(self, account_number):\n",
    "        if self.current_customer == None:\n",
    "            return (\"No customer logged in\")\n",
    "        else:\n",
    "            self.current_customer.print_specific_account(account_number)\n",
    "            \n",
    "            \n",
    "    def deposit(self, account, amount):\n",
    "        if amount <= 0:\n",
    "            return False\n",
    "        account.balance += amount\n",
    "        return True\n",
    "    \n",
    "    def withdraw(self, account, amount):\n",
    "        if account.balance < amount:\n",
    "            return print(\"Insufficient funds.\")\n",
    "        account.balance -= amount\n",
    "        return True\n",
    "            "
   ]
  },
  {
   "cell_type": "code",
   "execution_count": 663,
   "id": "31a90e81",
   "metadata": {
    "scrolled": true
   },
   "outputs": [],
   "source": [
    "bank = Bank()"
   ]
  },
  {
   "cell_type": "code",
   "execution_count": 664,
   "id": "6aea6f8c",
   "metadata": {},
   "outputs": [],
   "source": [
    "customer1 = Customer(\"oli\", \"password\")"
   ]
  },
  {
   "cell_type": "code",
   "execution_count": 665,
   "id": "7cb6136e",
   "metadata": {},
   "outputs": [],
   "source": [
    "customer2 = Customer(\"Shah\", \"PASSWORD\")"
   ]
  },
  {
   "cell_type": "code",
   "execution_count": 666,
   "id": "5ea509c4",
   "metadata": {
    "scrolled": true
   },
   "outputs": [
    {
     "data": {
      "text/plain": [
       "True"
      ]
     },
     "execution_count": 666,
     "metadata": {},
     "output_type": "execute_result"
    }
   ],
   "source": [
    "bank.add_customer(customer1)"
   ]
  },
  {
   "cell_type": "code",
   "execution_count": 667,
   "id": "13d6a0c6",
   "metadata": {},
   "outputs": [
    {
     "data": {
      "text/plain": [
       "True"
      ]
     },
     "execution_count": 667,
     "metadata": {},
     "output_type": "execute_result"
    }
   ],
   "source": [
    "bank.add_customer(customer2)"
   ]
  },
  {
   "cell_type": "code",
   "execution_count": 668,
   "id": "54880d43",
   "metadata": {},
   "outputs": [
    {
     "name": "stdout",
     "output_type": "stream",
     "text": [
      "Username: oli, Password: password\n",
      "Username: Shah, Password: PASSWORD\n"
     ]
    }
   ],
   "source": [
    "bank.get_customers()"
   ]
  },
  {
   "cell_type": "code",
   "execution_count": 669,
   "id": "29fc03ab",
   "metadata": {
    "scrolled": true
   },
   "outputs": [
    {
     "name": "stdout",
     "output_type": "stream",
     "text": [
      "Username: oli, Password: password\n"
     ]
    }
   ],
   "source": [
    "bank.get_customer(\"oli\")"
   ]
  },
  {
   "cell_type": "code",
   "execution_count": 670,
   "id": "726c3e58",
   "metadata": {},
   "outputs": [
    {
     "data": {
      "text/plain": [
       "True"
      ]
     },
     "execution_count": 670,
     "metadata": {},
     "output_type": "execute_result"
    }
   ],
   "source": [
    "bank.change_customer_password(\"oli\", \"newpassword\")"
   ]
  },
  {
   "cell_type": "code",
   "execution_count": 671,
   "id": "4f024f46",
   "metadata": {},
   "outputs": [
    {
     "name": "stdout",
     "output_type": "stream",
     "text": [
      "Username: oli, Password: newpassword\n"
     ]
    }
   ],
   "source": [
    "bank.get_customer(\"oli\")"
   ]
  },
  {
   "cell_type": "code",
   "execution_count": 672,
   "id": "30a6cc90",
   "metadata": {},
   "outputs": [
    {
     "data": {
      "text/plain": [
       "True"
      ]
     },
     "execution_count": 672,
     "metadata": {},
     "output_type": "execute_result"
    }
   ],
   "source": [
    "bank.remove_customer(\"Shah\")"
   ]
  },
  {
   "cell_type": "code",
   "execution_count": 673,
   "id": "04eb204e",
   "metadata": {},
   "outputs": [
    {
     "name": "stdout",
     "output_type": "stream",
     "text": [
      "Username: oli, Password: newpassword\n"
     ]
    }
   ],
   "source": [
    "bank.get_customers()"
   ]
  },
  {
   "cell_type": "code",
   "execution_count": 674,
   "id": "7c5d65bb",
   "metadata": {
    "scrolled": true
   },
   "outputs": [
    {
     "data": {
      "text/plain": [
       "True"
      ]
     },
     "execution_count": 674,
     "metadata": {},
     "output_type": "execute_result"
    }
   ],
   "source": [
    "bank.login(\"oli\", \"newpassword\")"
   ]
  },
  {
   "cell_type": "code",
   "execution_count": 675,
   "id": "5c9279e6",
   "metadata": {},
   "outputs": [
    {
     "name": "stdout",
     "output_type": "stream",
     "text": [
      "Username: oli, Password: newpassword\n"
     ]
    }
   ],
   "source": [
    "bank.get_current_customer()"
   ]
  },
  {
   "cell_type": "code",
   "execution_count": 676,
   "id": "7f992d52",
   "metadata": {},
   "outputs": [
    {
     "data": {
      "text/plain": [
       "True"
      ]
     },
     "execution_count": 676,
     "metadata": {},
     "output_type": "execute_result"
    }
   ],
   "source": [
    "bank.logout()"
   ]
  },
  {
   "cell_type": "code",
   "execution_count": 677,
   "id": "472e58ba",
   "metadata": {},
   "outputs": [
    {
     "data": {
      "text/plain": [
       "'No customer logged in'"
      ]
     },
     "execution_count": 677,
     "metadata": {},
     "output_type": "execute_result"
    }
   ],
   "source": [
    "bank.get_current_customer()"
   ]
  },
  {
   "cell_type": "code",
   "execution_count": 678,
   "id": "f3a28bab",
   "metadata": {},
   "outputs": [
    {
     "data": {
      "text/plain": [
       "True"
      ]
     },
     "execution_count": 678,
     "metadata": {},
     "output_type": "execute_result"
    }
   ],
   "source": [
    "bank.login(\"oli\", \"newpassword\")"
   ]
  },
  {
   "cell_type": "code",
   "execution_count": 679,
   "id": "30dd0d6c",
   "metadata": {},
   "outputs": [],
   "source": [
    "bank.get_accounts()"
   ]
  },
  {
   "cell_type": "code",
   "execution_count": 680,
   "id": "9ca9b950",
   "metadata": {},
   "outputs": [],
   "source": [
    "account1 = Account(123, 500)"
   ]
  },
  {
   "cell_type": "code",
   "execution_count": 681,
   "id": "63ab271a",
   "metadata": {
    "scrolled": true
   },
   "outputs": [
    {
     "data": {
      "text/plain": [
       "True"
      ]
     },
     "execution_count": 681,
     "metadata": {},
     "output_type": "execute_result"
    }
   ],
   "source": [
    "bank.add_account(account1)"
   ]
  },
  {
   "cell_type": "code",
   "execution_count": 682,
   "id": "a23a3510",
   "metadata": {},
   "outputs": [
    {
     "name": "stdout",
     "output_type": "stream",
     "text": [
      "Account Number: 123, Balance: 500\n"
     ]
    }
   ],
   "source": [
    "bank.get_accounts()"
   ]
  },
  {
   "cell_type": "code",
   "execution_count": 683,
   "id": "ed5af166",
   "metadata": {},
   "outputs": [],
   "source": [
    "account2 = Account(456,1000)"
   ]
  },
  {
   "cell_type": "code",
   "execution_count": 684,
   "id": "9da7ee29",
   "metadata": {},
   "outputs": [
    {
     "data": {
      "text/plain": [
       "True"
      ]
     },
     "execution_count": 684,
     "metadata": {},
     "output_type": "execute_result"
    }
   ],
   "source": [
    "bank.add_account(account2)"
   ]
  },
  {
   "cell_type": "code",
   "execution_count": 685,
   "id": "fcdfc03c",
   "metadata": {},
   "outputs": [
    {
     "name": "stdout",
     "output_type": "stream",
     "text": [
      "Account Number: 123, Balance: 500\n",
      "Account Number: 456, Balance: 1000\n"
     ]
    }
   ],
   "source": [
    "bank.get_accounts()"
   ]
  },
  {
   "cell_type": "code",
   "execution_count": 686,
   "id": "e6628c40",
   "metadata": {},
   "outputs": [
    {
     "data": {
      "text/plain": [
       "True"
      ]
     },
     "execution_count": 686,
     "metadata": {},
     "output_type": "execute_result"
    }
   ],
   "source": [
    "bank.remove_account(456) "
   ]
  },
  {
   "cell_type": "code",
   "execution_count": 687,
   "id": "05aca108",
   "metadata": {},
   "outputs": [
    {
     "name": "stdout",
     "output_type": "stream",
     "text": [
      "Account Number: 123, Balance: 500\n"
     ]
    }
   ],
   "source": [
    "bank.get_accounts()"
   ]
  },
  {
   "cell_type": "code",
   "execution_count": 688,
   "id": "d396c11b",
   "metadata": {},
   "outputs": [
    {
     "name": "stdout",
     "output_type": "stream",
     "text": [
      "Account Number: 123, Balance: 500\n"
     ]
    }
   ],
   "source": [
    "bank.get_account(123)"
   ]
  },
  {
   "cell_type": "code",
   "execution_count": 689,
   "id": "17aeb593",
   "metadata": {},
   "outputs": [
    {
     "data": {
      "text/plain": [
       "True"
      ]
     },
     "execution_count": 689,
     "metadata": {},
     "output_type": "execute_result"
    }
   ],
   "source": [
    "bank.deposit(account1, 200)"
   ]
  },
  {
   "cell_type": "code",
   "execution_count": 690,
   "id": "9c1e0fb5",
   "metadata": {},
   "outputs": [
    {
     "name": "stdout",
     "output_type": "stream",
     "text": [
      "Account Number: 123, Balance: 700\n"
     ]
    }
   ],
   "source": [
    "bank.get_account(123)"
   ]
  },
  {
   "cell_type": "code",
   "execution_count": 691,
   "id": "5ea1c690",
   "metadata": {},
   "outputs": [
    {
     "data": {
      "text/plain": [
       "True"
      ]
     },
     "execution_count": 691,
     "metadata": {},
     "output_type": "execute_result"
    }
   ],
   "source": [
    "bank.withdraw(account1, 100)"
   ]
  },
  {
   "cell_type": "code",
   "execution_count": 692,
   "id": "2526cd03",
   "metadata": {},
   "outputs": [
    {
     "name": "stdout",
     "output_type": "stream",
     "text": [
      "Account Number: 123, Balance: 600\n"
     ]
    }
   ],
   "source": [
    "bank.get_account(123)"
   ]
  }
 ],
 "metadata": {
  "kernelspec": {
   "display_name": "Python 3 (ipykernel)",
   "language": "python",
   "name": "python3"
  },
  "language_info": {
   "codemirror_mode": {
    "name": "ipython",
    "version": 3
   },
   "file_extension": ".py",
   "mimetype": "text/x-python",
   "name": "python",
   "nbconvert_exporter": "python",
   "pygments_lexer": "ipython3",
   "version": "3.9.13"
  }
 },
 "nbformat": 4,
 "nbformat_minor": 5
}
