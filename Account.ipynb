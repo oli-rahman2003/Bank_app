{
 "cells": [
  {
   "cell_type": "code",
   "execution_count": 1,
   "id": "46508544",
   "metadata": {},
   "outputs": [],
   "source": [
    "class Account:\n",
    "        def __init__(self, accountNumber, balance):\n",
    "            self.accountNumber = accountNumber\n",
    "            self.balance = balance\n",
    "            \n",
    "        def get_balance(self):\n",
    "            return self.balance\n",
    "\n",
    "        def set_balance(self, new_balance):\n",
    "            if new_balance >= 0:\n",
    "                self.balance = new_balance\n",
    "                \n",
    "        def get_account_number(self):\n",
    "            return self.accountNumber\n",
    "        \n",
    "        def set_account_number(self, account_number):\n",
    "            self.accountNumber = account_number\n",
    "            \n",
    "        def print_account_info(self):\n",
    "            print(f\"Account Number: {self.accountNumber}, Balance: {self.balance}\")\n",
    "            "
   ]
  },
  {
   "cell_type": "code",
   "execution_count": 2,
   "id": "a5f0b0b2",
   "metadata": {},
   "outputs": [],
   "source": [
    "account = Account(123, 500)"
   ]
  },
  {
   "cell_type": "code",
   "execution_count": 3,
   "id": "c6f8ac69",
   "metadata": {},
   "outputs": [
    {
     "data": {
      "text/plain": [
       "500"
      ]
     },
     "execution_count": 3,
     "metadata": {},
     "output_type": "execute_result"
    }
   ],
   "source": [
    "account.get_balance()"
   ]
  },
  {
   "cell_type": "code",
   "execution_count": 4,
   "id": "ed5b099d",
   "metadata": {},
   "outputs": [],
   "source": [
    "account.set_balance(600)"
   ]
  },
  {
   "cell_type": "code",
   "execution_count": 5,
   "id": "4c1da96d",
   "metadata": {},
   "outputs": [
    {
     "data": {
      "text/plain": [
       "600"
      ]
     },
     "execution_count": 5,
     "metadata": {},
     "output_type": "execute_result"
    }
   ],
   "source": [
    "account.get_balance()"
   ]
  },
  {
   "cell_type": "code",
   "execution_count": 6,
   "id": "63c7f08f",
   "metadata": {},
   "outputs": [
    {
     "data": {
      "text/plain": [
       "123"
      ]
     },
     "execution_count": 6,
     "metadata": {},
     "output_type": "execute_result"
    }
   ],
   "source": [
    "account.get_account_number()"
   ]
  },
  {
   "cell_type": "code",
   "execution_count": 7,
   "id": "a943e89f",
   "metadata": {},
   "outputs": [],
   "source": [
    "account.set_account_number(456)"
   ]
  },
  {
   "cell_type": "code",
   "execution_count": 8,
   "id": "d51f9734",
   "metadata": {},
   "outputs": [
    {
     "data": {
      "text/plain": [
       "456"
      ]
     },
     "execution_count": 8,
     "metadata": {},
     "output_type": "execute_result"
    }
   ],
   "source": [
    "account.get_account_number()"
   ]
  },
  {
   "cell_type": "code",
   "execution_count": 9,
   "id": "7ec0b122",
   "metadata": {},
   "outputs": [
    {
     "name": "stdout",
     "output_type": "stream",
     "text": [
      "Account Number: 456, Balance: 600\n"
     ]
    }
   ],
   "source": [
    "account.print_account_info()"
   ]
  }
 ],
 "metadata": {
  "kernelspec": {
   "display_name": "Python 3 (ipykernel)",
   "language": "python",
   "name": "python3"
  },
  "language_info": {
   "codemirror_mode": {
    "name": "ipython",
    "version": 3
   },
   "file_extension": ".py",
   "mimetype": "text/x-python",
   "name": "python",
   "nbconvert_exporter": "python",
   "pygments_lexer": "ipython3",
   "version": "3.9.13"
  }
 },
 "nbformat": 4,
 "nbformat_minor": 5
}
