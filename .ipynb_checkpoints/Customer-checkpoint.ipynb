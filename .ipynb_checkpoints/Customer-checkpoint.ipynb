{
 "cells": [
  {
   "cell_type": "code",
   "execution_count": 19,
   "id": "9dc06b27",
   "metadata": {},
   "outputs": [],
   "source": [
    "from Account import Account \n",
    "\n",
    "class Customer:\n",
    "    def __init__(self, username, password):\n",
    "        self.username = username\n",
    "        self.password = password\n",
    "        self.list_of_accounts = []\n",
    "    \n",
    "    def set_username(self, newUsername):\n",
    "        self._username = newUsername\n",
    "    \n",
    "    def get_username(self):\n",
    "        return self.username\n",
    "    \n",
    "    def set_password(self, newPassword):\n",
    "        self.password = newPassword\n",
    "    \n",
    "    def get_password(self):\n",
    "        return self.password\n",
    "        \n",
    "    def add_account(self, account):\n",
    "        if type(account) == Account:\n",
    "            self.list_of_accounts.append(account)\n",
    "            \n",
    "    def remove_account(self, account_number):\n",
    "        for account in self.list_of_accounts:\n",
    "            if account_number == account.get_account_number():\n",
    "                self.list_of_accounts.remove(account)\n",
    "            \n",
    "    def print_list_of_accounts(self):\n",
    "        for account in self.list_of_accounts:\n",
    "            account.print_account_info()\n",
    "            \n",
    "    def print_specific_account(self, account_number):\n",
    "        for account in self.list_of_accounts:\n",
    "            if account_number == account.get_account_number():\n",
    "                account.print_account_info()\n",
    "            \n",
    "    def print_customer_info(self):\n",
    "        print(f\"Username: {self.username}, Password: {self.password}\")"
   ]
  },
  {
   "cell_type": "code",
   "execution_count": 20,
   "id": "763f57c6",
   "metadata": {},
   "outputs": [],
   "source": [
    "customer1 = Customer(\"oli_rahman\", \"password\")"
   ]
  },
  {
   "cell_type": "code",
   "execution_count": 21,
   "id": "69883738",
   "metadata": {},
   "outputs": [
    {
     "data": {
      "text/plain": [
       "'oli_rahman'"
      ]
     },
     "execution_count": 21,
     "metadata": {},
     "output_type": "execute_result"
    }
   ],
   "source": [
    "customer1.get_username()"
   ]
  },
  {
   "cell_type": "code",
   "execution_count": 22,
   "id": "11a5cccf",
   "metadata": {},
   "outputs": [],
   "source": [
    "customer1.set_username(\"shah\")"
   ]
  },
  {
   "cell_type": "code",
   "execution_count": 23,
   "id": "69ab6942",
   "metadata": {},
   "outputs": [
    {
     "data": {
      "text/plain": [
       "'oli_rahman'"
      ]
     },
     "execution_count": 23,
     "metadata": {},
     "output_type": "execute_result"
    }
   ],
   "source": [
    "customer1.get_username()"
   ]
  },
  {
   "cell_type": "code",
   "execution_count": 24,
   "id": "474af52f",
   "metadata": {},
   "outputs": [],
   "source": [
    "customer1.set_password(\"wordpass\")"
   ]
  },
  {
   "cell_type": "code",
   "execution_count": 25,
   "id": "556ea137",
   "metadata": {
    "scrolled": true
   },
   "outputs": [
    {
     "data": {
      "text/plain": [
       "'wordpass'"
      ]
     },
     "execution_count": 25,
     "metadata": {},
     "output_type": "execute_result"
    }
   ],
   "source": [
    "customer1.get_password()"
   ]
  },
  {
   "cell_type": "code",
   "execution_count": 26,
   "id": "6d78d080",
   "metadata": {
    "scrolled": true
   },
   "outputs": [],
   "source": [
    "account1 = Account(123, 400)"
   ]
  },
  {
   "cell_type": "code",
   "execution_count": 27,
   "id": "bf8b99cc",
   "metadata": {
    "scrolled": false
   },
   "outputs": [],
   "source": [
    "customer1.add_account(account1)"
   ]
  },
  {
   "cell_type": "code",
   "execution_count": 28,
   "id": "48398c62",
   "metadata": {},
   "outputs": [],
   "source": [
    "account2 = Account(456, 700)"
   ]
  },
  {
   "cell_type": "code",
   "execution_count": 29,
   "id": "0a8b666a",
   "metadata": {},
   "outputs": [],
   "source": [
    "customer1.add_account(account2)"
   ]
  },
  {
   "cell_type": "code",
   "execution_count": 30,
   "id": "f1bf68a8",
   "metadata": {},
   "outputs": [],
   "source": [
    "customer2 = Customer(\"hans\", \"solo\")"
   ]
  },
  {
   "cell_type": "code",
   "execution_count": 31,
   "id": "8bf3f075",
   "metadata": {},
   "outputs": [],
   "source": [
    "account3 = Account(987, 1000000)"
   ]
  },
  {
   "cell_type": "code",
   "execution_count": 32,
   "id": "4e1957dd",
   "metadata": {},
   "outputs": [],
   "source": [
    "customer2.add_account(account1)"
   ]
  },
  {
   "cell_type": "code",
   "execution_count": 33,
   "id": "28fa317f",
   "metadata": {},
   "outputs": [
    {
     "name": "stdout",
     "output_type": "stream",
     "text": [
      "Account Number: 123, Balance: 400\n"
     ]
    }
   ],
   "source": [
    "customer2.print_list_of_accounts()"
   ]
  },
  {
   "cell_type": "code",
   "execution_count": 34,
   "id": "ff987cbb",
   "metadata": {},
   "outputs": [],
   "source": [
    "customer2.remove_account(987)"
   ]
  },
  {
   "cell_type": "code",
   "execution_count": 35,
   "id": "bc8e62d2",
   "metadata": {},
   "outputs": [],
   "source": [
    "customer2.print_specific_account(456)"
   ]
  }
 ],
 "metadata": {
  "kernelspec": {
   "display_name": "Python 3 (ipykernel)",
   "language": "python",
   "name": "python3"
  },
  "language_info": {
   "codemirror_mode": {
    "name": "ipython",
    "version": 3
   },
   "file_extension": ".py",
   "mimetype": "text/x-python",
   "name": "python",
   "nbconvert_exporter": "python",
   "pygments_lexer": "ipython3",
   "version": "3.9.16"
  }
 },
 "nbformat": 4,
 "nbformat_minor": 5
}
